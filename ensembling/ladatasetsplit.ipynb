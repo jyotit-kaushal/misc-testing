{
 "cells": [
  {
   "cell_type": "code",
   "execution_count": 1,
   "metadata": {},
   "outputs": [],
   "source": [
    "# Read data from text file\n",
    "with open('/Users/jyotit-kaushal/github/misc-testing/LA_eval_small/ASVspoof2019.LA.cm.eval.trl.txt', 'r') as file:\n",
    "    lines = file.readlines()\n",
    "\n",
    "# Convert \"- -\" to \"1\" and \"-\" to \"2\" in each line\n",
    "for i in range(len(lines)):\n",
    "    lines[i] = lines[i].replace('- -', 'XX').replace('-', 'XXXX')\n",
    "\n",
    "data = [line.strip().split(' ') for line in lines]\n",
    "\n",
    "# Write data to CSV file\n",
    "with open('y_init.csv', 'w') as f:\n",
    "    f.write(\"la_code,la_e_code,attack,label\\n\")  # Write header\n",
    "    for item in data:\n",
    "        if item[3] == 'bonafide':\n",
    "            pass\n",
    "        else:\n",
    "            item[3] += ' spoof'\n",
    "        f.write(f\"{item[0]},{item[1]},{item[2]}, {item[3]}\\n\")\n",
    "\n"
   ]
  },
  {
   "cell_type": "code",
   "execution_count": 2,
   "metadata": {},
   "outputs": [],
   "source": [
    "import os\n",
    "import csv\n",
    "\n",
    "# Directory path\n",
    "directory = '/Users/jyotit-kaushal/github/misc-testing/LA_eval_small/ASVspoof2019_LA_eval/flac'  # Change this to your directory path\n",
    "\n",
    "# List all filenames in the directory\n",
    "filenames = os.listdir(directory)\n",
    "\n",
    "# Extract file names without extensions\n",
    "filenames_without_extensions = [os.path.splitext(filename)[0] for filename in filenames]\n",
    "\n",
    "# Write filenames to a CSV file\n",
    "with open('X_init.csv', 'w', newline='') as csvfile:\n",
    "    writer = csv.writer(csvfile)\n",
    "    writer.writerow(['la_e_code'])  # Write header\n",
    "    for filename in filenames_without_extensions:\n",
    "        writer.writerow([filename])\n"
   ]
  },
  {
   "cell_type": "code",
   "execution_count": 3,
   "metadata": {},
   "outputs": [
    {
     "name": "stderr",
     "output_type": "stream",
     "text": [
      "/var/folders/47/sx3slfp54xv_8syv33c8kzz80000gn/T/ipykernel_61526/1689657859.py:2: DeprecationWarning: \n",
      "Pyarrow will become a required dependency of pandas in the next major release of pandas (pandas 3.0),\n",
      "(to allow more performant data types, such as the Arrow string type, and better interoperability with other libraries)\n",
      "but was not found to be installed on your system.\n",
      "If this would cause problems for you,\n",
      "please provide us feedback at https://github.com/pandas-dev/pandas/issues/54466\n",
      "        \n",
      "  import pandas as pd\n"
     ]
    }
   ],
   "source": [
    "from random import randrange\n",
    "import pandas as pd\n",
    "\n",
    "X= pd.read_csv('X_init.csv')\n",
    "X = pd.DataFrame(X)\n",
    "\n",
    "y= pd.read_csv('y_init.csv')\n",
    "y= pd.DataFrame(y)\n",
    "\n",
    "X= X.sort_values(by='la_e_code', ascending=True)\n",
    "y= y.sort_values(by='la_e_code', ascending=True)\n",
    "\n",
    "# X.head()\n",
    "# y.head()\n",
    "\n"
   ]
  },
  {
   "cell_type": "code",
   "execution_count": 4,
   "metadata": {},
   "outputs": [],
   "source": [
    "def subsample(X, y, ratio=1):\n",
    "    temp_X = list()\n",
    "    temp_y = list()\n",
    "    picked_indices= set()\n",
    "\n",
    "    n_sample = round(len(X) * ratio)\n",
    "\n",
    "    while len(temp_X) < n_sample:\n",
    "        index = randrange(len(X))\n",
    "\n",
    "        if index not in picked_indices:\n",
    "            temp_X.append(X.iloc[index])\n",
    "            temp_y.append(y.iloc[index])\n",
    "            picked_indices.add(index)\n",
    "\n",
    "    temp_X_df = pd.DataFrame(temp_X)\n",
    "    temp_y_df = pd.DataFrame(temp_y)\n",
    "\n",
    "    return temp_X_df, temp_y_df\n",
    "\n",
    "num_bags = 1\n",
    "ratio = 0.65\n",
    "\n",
    "# bags_X = list()\n",
    "# bags_y= list()\n",
    "\n",
    "sample_X, sample_y= subsample(X, y, ratio)\n",
    "\n",
    "# for i in range(num_bags):  # Corrected the range to iterate over all bags\n",
    "#     sample_X, sample_y = subsample(X, y, ratio)\n",
    "\n",
    "#     bags_X.append(sample_X)\n",
    "#     bags_y.append(sample_y)"
   ]
  },
  {
   "cell_type": "code",
   "execution_count": 5,
   "metadata": {},
   "outputs": [
    {
     "name": "stdout",
     "output_type": "stream",
     "text": [
      "      la_e_code\n",
      "0  LA_E_5932896\n",
      "   la_code     la_e_code attack       label\n",
      "0  LA_0039  LA_E_2834763   XXXX   A11 spoof\n"
     ]
    }
   ],
   "source": [
    "print(sample_X.head())\n",
    "print(sample_y.head())"
   ]
  },
  {
   "cell_type": "code",
   "execution_count": 6,
   "metadata": {},
   "outputs": [
    {
     "name": "stdout",
     "output_type": "stream",
     "text": [
      "Files moved successfully.\n"
     ]
    }
   ],
   "source": [
    "import shutil\n",
    "\n",
    "\n",
    "sample_X['la_e_code'] = sample_X['la_e_code'].apply(lambda x: x + '.flac')\n",
    "\n",
    "source_directory = '/Users/jyotit-kaushal/github/misc-testing/LA_eval_small/ASVspoof2019_LA_eval/flac'\n",
    "destination_directory = '/Users/jyotit-kaushal/github/misc-testing/ensembling/data1/flac'\n",
    "\n",
    "for filename in sample_X['la_e_code']:\n",
    "    source_file = os.path.join(source_directory, filename)\n",
    "    destination_file = os.path.join(destination_directory, filename)\n",
    "    shutil.copy(source_file, destination_file)\n",
    "\n",
    "print(\"Files moved successfully.\")"
   ]
  },
  {
   "cell_type": "code",
   "execution_count": 7,
   "metadata": {},
   "outputs": [],
   "source": [
    "import csv\n",
    "\n",
    "# Read data from CSV file\n",
    "data = []\n",
    "with open('output.csv', 'r') as csvfile:\n",
    "    reader = csv.DictReader(csvfile)\n",
    "    for row in reader:\n",
    "        data.append(row)\n",
    "\n",
    "# Modify data\n",
    "for entry in data:\n",
    "    if entry['attack'] == 'XX':\n",
    "        entry['attack'] = '- -'\n",
    "    elif entry['attack'] == 'XXXX':\n",
    "        entry['attack'] = '-'\n",
    "\n",
    "# Write data to text file\n",
    "with open('output_text.txt', 'w') as txtfile:\n",
    "    txtfile.write(\"la_code,la_e_code,attack,label\\n\")\n",
    "    for entry in data:\n",
    "        txtfile.write(f\"{entry['la_code']} {entry['la_e_code']} {entry['attack']}{entry['label']}\\n\")\n"
   ]
  },
  {
   "cell_type": "code",
   "execution_count": 8,
   "metadata": {},
   "outputs": [],
   "source": [
    "# Define input and output file paths\n",
    "input_file = 'output_text.txt'\n",
    "output_file = '/Users/jyotit-kaushal/github/misc-testing/ensembling/data1/flac/protocols/protcol_trainwtv.txt'\n",
    "\n",
    "# Read lines from input file, skipping the first line\n",
    "with open(input_file, 'r') as f_in:\n",
    "    lines = f_in.readlines()[1:]\n",
    "\n",
    "# Write the remaining lines to the output file\n",
    "with open(output_file, 'w') as f_out:\n",
    "    f_out.writelines(lines)"
   ]
  }
 ],
 "metadata": {
  "kernelspec": {
   "display_name": "capstone_ensemble",
   "language": "python",
   "name": "python3"
  },
  "language_info": {
   "codemirror_mode": {
    "name": "ipython",
    "version": 3
   },
   "file_extension": ".py",
   "mimetype": "text/x-python",
   "name": "python",
   "nbconvert_exporter": "python",
   "pygments_lexer": "ipython3",
   "version": "3.12.1"
  }
 },
 "nbformat": 4,
 "nbformat_minor": 2
}
